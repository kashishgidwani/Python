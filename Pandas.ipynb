{
  "nbformat": 4,
  "nbformat_minor": 0,
  "metadata": {
    "colab": {
      "provenance": [],
      "authorship_tag": "ABX9TyPXnYaPgsCeus74/dS9JKpV",
      "include_colab_link": true
    },
    "kernelspec": {
      "name": "python3",
      "display_name": "Python 3"
    },
    "language_info": {
      "name": "python"
    }
  },
  "cells": [
    {
      "cell_type": "markdown",
      "metadata": {
        "id": "view-in-github",
        "colab_type": "text"
      },
      "source": [
        "<a href=\"https://colab.research.google.com/github/kashishgidwani/Python/blob/main/Pandas.ipynb\" target=\"_parent\"><img src=\"https://colab.research.google.com/assets/colab-badge.svg\" alt=\"Open In Colab\"/></a>"
      ]
    },
    {
      "cell_type": "code",
      "execution_count": 5,
      "metadata": {
        "colab": {
          "base_uri": "https://localhost:8080/"
        },
        "id": "WwZYd9MbqxFO",
        "outputId": "3dc3cdc0-0b02-45b1-82a3-7f0cf58f0439"
      },
      "outputs": [
        {
          "output_type": "stream",
          "name": "stdout",
          "text": [
            "0    10\n",
            "1    20\n",
            "2    30\n",
            "3    40\n",
            "4    50\n",
            "dtype: int64\n",
            "0    a\n",
            "1    e\n",
            "2    i\n",
            "3    o\n",
            "4    u\n",
            "dtype: object\n"
          ]
        }
      ],
      "source": [
        "import numpy as np\n",
        "import pandas as pd\n",
        "data=np.array([10,20,30,40,50])\n",
        "ser=pd.Series(data)\n",
        "print(ser)\n",
        "l=['a','e','i','o','u']\n",
        "ser=pd.Series(l)\n",
        "print(ser)\n"
      ]
    },
    {
      "cell_type": "code",
      "source": [
        "import numpy as np\n",
        "import pandas as pd\n",
        "subj=[\"Maths\",\"Science\",\"Social Science\",\"Language\"]\n",
        "marks=[99,88,95,87]\n",
        "ser=pd.Series(marks,index=subj)\n",
        "print(ser)"
      ],
      "metadata": {
        "colab": {
          "base_uri": "https://localhost:8080/"
        },
        "id": "4QRkzzFjrwhk",
        "outputId": "5c30eaf4-a54e-46e6-a0bd-fdf931f9f95b"
      },
      "execution_count": 7,
      "outputs": [
        {
          "output_type": "stream",
          "name": "stdout",
          "text": [
            "Maths             99\n",
            "Science           88\n",
            "Social Science    95\n",
            "Language          87\n",
            "dtype: int64\n"
          ]
        }
      ]
    },
    {
      "cell_type": "code",
      "source": [
        "#doing the same problem using dictionary\n",
        "import numpy as np\n",
        "import pandas as pd\n",
        "sub_mark={\"Maths\":99,\"Science\":88,\"Social Science\":95,\"Language\":87}\n",
        "ser=pd.Series(sub_mark)\n",
        "print(ser)"
      ],
      "metadata": {
        "colab": {
          "base_uri": "https://localhost:8080/"
        },
        "id": "hGtkNaeusgFS",
        "outputId": "84181c55-0f25-441a-fd94-a0f4570d30de"
      },
      "execution_count": 8,
      "outputs": [
        {
          "output_type": "stream",
          "name": "stdout",
          "text": [
            "Maths             99\n",
            "Science           88\n",
            "Social Science    95\n",
            "Language          87\n",
            "dtype: int64\n"
          ]
        }
      ]
    },
    {
      "cell_type": "code",
      "source": [
        "import numpy as np\n",
        "import pandas as pd\n",
        "subj=[\"Maths\",\"Science\",\"Social Science\",\"CS\"]\n",
        "sub_mark={\"Maths\":99,\"Science\":88,\"Social Science\":95,\"Language\":87}\n",
        "ser=pd.Series(sub_mark,index=subj)\n",
        "print(ser)"
      ],
      "metadata": {
        "colab": {
          "base_uri": "https://localhost:8080/"
        },
        "id": "gjhdSrX2txmQ",
        "outputId": "04f38a52-b1b1-4dd5-963e-1fe8c36b31b8"
      },
      "execution_count": 10,
      "outputs": [
        {
          "output_type": "stream",
          "name": "stdout",
          "text": [
            "Maths             99.0\n",
            "Science           88.0\n",
            "Social Science    95.0\n",
            "CS                 NaN\n",
            "dtype: float64\n"
          ]
        }
      ]
    },
    {
      "cell_type": "code",
      "source": [
        "import numpy as np\n",
        "import pandas as pd\n",
        "subj=[\"Maths\",\"Science\",\"Social Science\",\"CS\"]\n",
        "marks=[99,88,95,87]\n",
        "ser=pd.Series(marks,index=subj)\n",
        "print(\"All subjects with marks above 90 are: \")\n",
        "print(ser[ser>90])\n",
        "print(\"\\nMarks in ascending order: \")\n",
        "print(ser.sort_values())\n",
        "print(\"\\nRank according to marks in descending order( highest score, first rank): \")\n",
        "print(ser.rank(ascending=False))\n",
        "print(\"\\nTotal is: \",ser.sum())\n",
        "print(\"Mean is: \",ser.mean())\n",
        "print(\"Median is: \",ser.median())\n",
        "print(\"Standard Deviation: \",ser.std())\n",
        "print(\"Maximum is: \",ser.max())\n",
        "print(\"Index of maximum is: \",ser.idxmax())\n",
        "print(\"Minimum is: \",ser.min())\n",
        "print(\"Index of minimum is: \",ser.idxmin())\n",
        "print(\"Count is: \",ser.count())"
      ],
      "metadata": {
        "colab": {
          "base_uri": "https://localhost:8080/"
        },
        "id": "dTdg5DQ-uDvk",
        "outputId": "aba71fa1-0a17-43a0-b567-2265afcf6fee"
      },
      "execution_count": 19,
      "outputs": [
        {
          "output_type": "stream",
          "name": "stdout",
          "text": [
            "All subjects with marks above 90 are: \n",
            "Maths             99\n",
            "Social Science    95\n",
            "dtype: int64\n",
            "\n",
            "Marks in ascending order: \n",
            "CS                87\n",
            "Science           88\n",
            "Social Science    95\n",
            "Maths             99\n",
            "dtype: int64\n",
            "\n",
            "Rank according to marks in descending order( highest score, first rank): \n",
            "Maths             1.0\n",
            "Science           3.0\n",
            "Social Science    2.0\n",
            "CS                4.0\n",
            "dtype: float64\n",
            "\n",
            "Total is:  369\n",
            "Mean is:  92.25\n",
            "Median is:  91.5\n",
            "Standard Deviation:  5.737304826019502\n",
            "Maximum is:  99\n",
            "Index of maximum is:  Maths\n",
            "Minimum is:  87\n",
            "Index of minimum is:  CS\n",
            "Count is:  4\n"
          ]
        }
      ]
    }
  ]
}