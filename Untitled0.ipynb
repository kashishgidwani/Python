{
  "nbformat": 4,
  "nbformat_minor": 0,
  "metadata": {
    "colab": {
      "provenance": [],
      "authorship_tag": "ABX9TyPKZpab+eQEf3FR/cMZPlVC",
      "include_colab_link": true
    },
    "kernelspec": {
      "name": "python3",
      "display_name": "Python 3"
    },
    "language_info": {
      "name": "python"
    }
  },
  "cells": [
    {
      "cell_type": "markdown",
      "metadata": {
        "id": "view-in-github",
        "colab_type": "text"
      },
      "source": [
        "<a href=\"https://colab.research.google.com/github/kashishgidwani/Python/blob/main/Untitled0.ipynb\" target=\"_parent\"><img src=\"https://colab.research.google.com/assets/colab-badge.svg\" alt=\"Open In Colab\"/></a>"
      ]
    },
    {
      "cell_type": "code",
      "execution_count": 1,
      "metadata": {
        "colab": {
          "base_uri": "https://localhost:8080/"
        },
        "id": "2GWgVBSUp9M8",
        "outputId": "74e598e3-9b7f-4b1c-d9d3-35e86e054c24"
      },
      "outputs": [
        {
          "output_type": "stream",
          "name": "stdout",
          "text": [
            "[ 5.  3. -2.]\n",
            "Rank is:  3\n",
            "Determinant is:  122.99999999999994\n",
            "Inverse is:  [[ 0.15447154 -0.1300813   0.04065041]\n",
            " [ 0.10569106  0.01626016 -0.1300813 ]\n",
            " [ 0.03252033  0.23577236  0.11382114]]\n"
          ]
        }
      ],
      "source": [
        "import numpy as np\n",
        "def matrixx(a):\n",
        "  m_rank=np.linalg.matrix_rank(a)\n",
        "  m_det=np.linalg.det(a)\n",
        "  m_inv=np.linalg.inv(a)\n",
        "  return m_rank,m_det,m_inv\n",
        "a=np.array([[4,3,2],[-2,2,3],[3,-5,2]])\n",
        "b=np.array([25,-10,-4])\n",
        "x=np.linalg.solve(a,b)\n",
        "print(x)\n",
        "c,d,e=matrixx(a)\n",
        "print(\"Rank is: \",c)\n",
        "print(\"Determinant is: \",d)\n",
        "print(\"Inverse is: \",e)"
      ]
    },
    {
      "cell_type": "code",
      "source": [
        "import scipy\n",
        "import numpy as np\n",
        "a=np.array([[4,3],[-5,9]])\n",
        "b=np.array([20,26])\n",
        "x=scipy.linalg.solve(a,b)\n",
        "print(x)\n",
        "#works same as np\n",
        "#but we need numpy to define array to perform operation on scipy\n",
        "#only eig is enough in scipy"
      ],
      "metadata": {
        "colab": {
          "base_uri": "https://localhost:8080/"
        },
        "id": "j7TghC9HqKcF",
        "outputId": "d5e617d1-9e63-4074-9dca-10b8137e3e39"
      },
      "execution_count": 2,
      "outputs": [
        {
          "output_type": "stream",
          "name": "stdout",
          "text": [
            "[2. 4.]\n"
          ]
        }
      ]
    },
    {
      "cell_type": "code",
      "source": [
        "import numpy as np\n",
        "a=np.array([[1,-2j],[2j,5]])\n",
        "print(\"Array is: \",a)\n",
        "c,d=np.linalg.eigh(a)\n",
        "print(\"Eigen value is: \",c)\n",
        "print(\"Eigen vector is: \",d)\n",
        "\n",
        "#eigvals:only vals of normal matrix\n",
        "#eighsh:only values of complex matrix\n",
        "#eig:for normal matrix,both vals n vectors\n",
        "#eigh:both vals n vectors of complex matrix"
      ],
      "metadata": {
        "colab": {
          "base_uri": "https://localhost:8080/"
        },
        "id": "tYTlEQ-yqN4W",
        "outputId": "28f5ec5c-4870-4366-b99f-bdf43d8b7867"
      },
      "execution_count": 3,
      "outputs": [
        {
          "output_type": "stream",
          "name": "stdout",
          "text": [
            "Array is:  [[ 1.+0.j -0.-2.j]\n",
            " [ 0.+2.j  5.+0.j]]\n",
            "Eigen value is:  [0.17157288 5.82842712]\n",
            "Eigen vector is:  [[-0.92387953+0.j         -0.38268343+0.j        ]\n",
            " [ 0.        +0.38268343j  0.        -0.92387953j]]\n"
          ]
        }
      ]
    },
    {
      "cell_type": "code",
      "source": [
        "#ravel:flattening of array\n",
        "import numpy as np\n",
        "x=np.array([[1,2,3],[2,3,4]])\n",
        "print(x)\n",
        "y=np.ravel(x)\n",
        "print(y)"
      ],
      "metadata": {
        "colab": {
          "base_uri": "https://localhost:8080/"
        },
        "id": "kpwbuhNfqS1x",
        "outputId": "1091480e-cc45-4ff4-ae39-be4bcfe2a210"
      },
      "execution_count": 4,
      "outputs": [
        {
          "output_type": "stream",
          "name": "stdout",
          "text": [
            "[[1 2 3]\n",
            " [2 3 4]]\n",
            "[1 2 3 2 3 4]\n"
          ]
        }
      ]
    }
  ]
}